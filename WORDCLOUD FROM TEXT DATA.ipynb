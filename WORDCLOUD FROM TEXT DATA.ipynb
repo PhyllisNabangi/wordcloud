{
 "cells": [
  {
   "cell_type": "markdown",
   "metadata": {},
   "source": [
    "# GENERATING WORD CLOUD FROM TEXT DATA"
   ]
  },
  {
   "cell_type": "code",
   "execution_count": 5,
   "metadata": {},
   "outputs": [],
   "source": [
    "import os\n",
    "import matplotlib.pyplot as plt\n",
    "from wordcloud import WordCloud, STOPWORDS"
   ]
  },
  {
   "cell_type": "code",
   "execution_count": 6,
   "metadata": {},
   "outputs": [],
   "source": [
    "#load the Data\n",
    "os.chdir(\"C:\\\\Users\\\\Phyllis Joy\\\\Desktop\\\\WORD CLOUD\")"
   ]
  },
  {
   "cell_type": "code",
   "execution_count": 7,
   "metadata": {},
   "outputs": [],
   "source": [
    "text = open('vision.txt', \"r\")"
   ]
  },
  {
   "cell_type": "code",
   "execution_count": 8,
   "metadata": {},
   "outputs": [
    {
     "data": {
      "text/plain": [
       "'No matter who you are or what country you live in, you have a personal purpose, for every human\\nbeing is born with one. God created each person with a unique vision. He has tremendous plans for\\nyou that no one else can accomplish. The tragic thing is that many people live their whole lives\\nwithout ever recognizing their visions. A lack of purpose and unfulfilled potential is epidemic in our\\nworld. I travel to many nations speaking to various groups, and I meet people on every continent who\\nhave no sense of personal, corporate, or national purpose. I see them struggling with aimless or\\nmisdirected lives.\\nMost people’s lives do not reflect who they truly are or what they can be. Inside them are dreams that are not yet reality, gifts and talents\\nthey have not yet developed, purposes for their lives that are not yet fulfilled, the “something” they’ve always wanted to be or do but for\\nsome reason have not been able to accomplish. I wrote The Principles and Power of  Vision (the result of thirty years of my research\\ninto purpose and potential) to show you how to discover, develop, and fulfill your personal vision. Now, this study guide companion will\\nhelp you capture your vision and put it into practice even more fully in your life.\\nVision is a conception that is inspired by God in the heart of a human. The greatest gift God ever gave humanity is not sight, but vision.\\nSight is a function of the eyes, but vision is a function of the heart. You can have sight but no vision. Throughout history, progress has\\nbeen made only by people who have “seen” things that were not yet here. Vision is seeing the future before it comes into being. It is a\\nmental picture of your destiny. God gave humanity the gift of vision so we would not have to live only by what we see.\\nWhat have you always wanted to do? What is your heart’s desire? What is your dream? When you can begin to see your vision clearly,\\nyou will be able to fulfill your life’s purpose. The essence of vision is the ability to see farther than your physical eyes can look—to see\\nnot just what is, but also what can be and to make it a reality.\\nConsider this analogy: The destiny of an acorn is a tree. By faith, you can see the tree within the seed. You have a vision of it in your\\nmind’s eye because you know the potential in the seed. The same thing is true for you and me. God has given us birth for a purpose, and\\nas far as God is concerned, that purpose is already finished because He has placed within us the potential for fulfilling it. We can see that\\npurpose through faith. To paraphrase the Bible, faith is the substance of things you hope to accomplish, the evidence of things you can\\nsee even when others cannot. Only by seeing what is not yet here can you bring something new, creative, and exciting into existence.\\nYour dreams, talents, and desires can be refined in a process of discovering and fulfilling your vision so that your unique and personal\\ngifts to this world will shine forth.\\nI believe with all my heart that when you have no vision, you will simply relive the past with its disappointments and failures. As long as a\\nperson has vision, however, there is always a chance for him to move out of his present circumstances and toward the fulfillment of his\\npurpose. Therefore, vision is the key to your future. This study guide will help you to reassess your life’s strategies and make the\\nnecessary adjustments so you can plan for the future and not make the same mistakes and decisions that have hindered you in the past.\\nYou will come to understand the principles of vision as well as the practical tools and skills necessary to bring your vision into reality.\\n—Myles Munroe\\nChapter One\\nChapte r The me\\nVision: The Key to Fulfilling Your Life’s Purpose\\nGod has placed within each person a vision that is\\ndesigned to give purpose and meaning to life.\\nOne of the dilemmas of contemporary society is a lack of meaningfulness and purpose in everyday\\nlife. If you ask people, “Why do you exist?” most cannot tell you. They can’t explain their purpose in\\nthe world. Many people are also struggling with job and life satisfaction issues.\\nSome people are fairly content with their lives, but they have a vague sense that there should be more significance to life than they are\\nexperiencing. Still others live on a surface level, pursuing a series of emotional highs that leave them empty and constantly searching for\\nthe next thrill that might satisfy them.\\nDo you have a sense of personal purpose? Do you know why you were born? Does your purpose give you a passion for living? You can\\nknow why you exist, fulfill your God-given purpose, and experience a remarkable life in light of that knowledge. Hidden within you is the\\nkey to living a more fulfilling life than you ever imagined. That key is vision.\\nConclusion\\nEvery person has been given a vision for life, as well as one or more gifts that will enable him to fulfill that vision. Most people do things\\nbecause they have to. Vision enables you to do things because you have decided to, based on your purpose. You were created to\\naccomplish something that no one else can accomplish. Dream big. Somewhere inside you there is always the ability to dream. No\\nmatter how challenging it gets, don’t give up, because your vision is the key to fulfilling your life’s purpose.\\nApplying the  Principle s of Vision\\nThinking It Ove r\\n• Do you know the answer to the question, “Why do you exist?” If so, what is the reason for your\\nexistence? If not, begin to write down any thoughts you have regarding your purpose; keep refining\\nthem as you progress through this book.\\n• How successful have you been in achieving your goals? What is helping you/hindering you in\\nachieving them?\\n• Before reading this chapter, which of the following statements best described your overall goal in\\nlife: “I am retired” or “It is finished” (I have finished the purpose for which I was created)? Has\\nyour goal changed since reading this chapter? Why or why not?\\nActing on It\\n• Make a list of your unique gifts, personal qualities, and interests. Then note whether or not there is a\\nstrong connection between these gifts, personal qualities, and interests and the primary work and\\nactivities you are involved in.\\n• Write down ways you can develop, refine, and use your gifts.\\nPraying about It\\n• Ask God to help you see the vision He has placed inside you.\\n• Give thanks to God for the particular gifts and abilities He has given you.\\n• Read and mediate on this Scripture to remind yourself that God has created you with both a distinct\\ndesign and a distinct purpose:\\nFor you created my inmost being; you knit me together in my mother ’s womb. I praise you\\nbecause I am fearfully and wonderfully made; your works are wonderful, I know that full well.\\n(Psalm 139:13–14)\\n\\nYour purpose  will be come  your passion.\\nChapter Two\\nThe Source of Vision\\nVision is foresight with insight based on hindsight.\\nChapte r The me\\nThe first step to fulfilling your reason for existence was realizing that you have been given a vision.\\nYet how exactly do you receive, recognize, and activate your vision? When you understand the source\\nof vision, you will learn the secrets to its origin and working in your life. This knowledge will help\\nyou to take your dream from initial idea all the way to fulfillment.\\nConclusion\\nMany people are waiting for God to tell them what to do in life when it has been given to them already. God has been speaking to them\\nsince they were born, and He is still speaking to them now through the thoughts, ideas, and visions they keep having in their minds.\\nLikewise, God planned in advance all that you were born to be and accomplish. Not only does He establish your end, but He also gives\\nyou a glimpse of it through the vision He has put in your heart. You are not an experiment. God created you for a purpose, and He will\\nbring that purpose to pass.\\nApplying the  Principle s of Vision\\nThinking It Ove r\\n• Ultimately, our visions aren’t about ourselves but about God and His purposes. Has this been your\\nperspective on fulfilling your vision? Why or why not? In what ways has your perspective changed\\nsince reading this chapter?\\n• Dr. Munroe said that others can confirm your vision, but that they do not give you your vision. Have\\nyou been looking to others to give you a vision rather than to God and the ideas and desires He has\\nput in your heart? If so, what will you do to seek your true vision from now on?\\n• No great work was ever done by just one person. Yet sometimes people try to fulfill their visions by\\nthemselves instead of working with those who share the vision. Are you cooperating with others in\\nthe vision in which you are involved? How can you work more harmoniously with them?\\nActing on It\\n• God will reveal your vision as you follow Him, listen to Him, and pay attention to what He has\\nplaced in your heart and mind. Have you been listening to what God has been saying? If not, make a\\npoint to begin to do so today. To start, take half an hour and allow yourself to dream about what you\\nwould like to do in life. What ideas and desires do you have? What have you always '"
      ]
     },
     "execution_count": 8,
     "metadata": {},
     "output_type": "execute_result"
    }
   ],
   "source": [
    "data = text.read()\n",
    "data"
   ]
  },
  {
   "cell_type": "code",
   "execution_count": null,
   "metadata": {},
   "outputs": [],
   "source": [
    "# Generate a word cloud"
   ]
  },
  {
   "cell_type": "code",
   "execution_count": 9,
   "metadata": {},
   "outputs": [],
   "source": [
    "%matplotlib inline"
   ]
  },
  {
   "cell_type": "code",
   "execution_count": 13,
   "metadata": {
    "scrolled": true
   },
   "outputs": [
    {
     "data": {
      "image/png": "[encoded data removed]",
      "text/plain": [
       "<Figure size 1440x720 with 1 Axes>"
      ]
     },
     "metadata": {},
     "output_type": "display_data"
    }
   ],
   "source": [
    "plt.figure(figsize=(20,10))\n",
    "wc = WordCloud(background_color='white', mode=\"RGB\", width = 100, height=50\n",
    "            ).generate(data)\n",
    "plt.title(\"vision-text wordcloud\")\n",
    "plt.imshow(wc)\n",
    "plt.axis(\"off\")\n",
    "plt.show()"
   ]
  },
  {
   "cell_type": "code",
   "execution_count": 11,
   "metadata": {},
   "outputs": [
    {
     "data": {
      "text/plain": [
       "'C:\\\\Users\\\\Phyllis Joy\\\\Desktop\\\\WORD CLOUD'"
      ]
     },
     "execution_count": 11,
     "metadata": {},
     "output_type": "execute_result"
    }
   ],
   "source": [
    " pwd"
   ]
  },
  {
   "cell_type": "code",
   "execution_count": 13,
   "metadata": {},
   "outputs": [
    {
     "data": {
      "text/plain": [
       "{'a',\n",
       " 'about',\n",
       " 'above',\n",
       " 'after',\n",
       " 'again',\n",
       " 'against',\n",
       " 'all',\n",
       " 'also',\n",
       " 'am',\n",
       " 'an',\n",
       " 'and',\n",
       " 'any',\n",
       " 'are',\n",
       " \"aren't\",\n",
       " 'as',\n",
       " 'at',\n",
       " 'be',\n",
       " 'because',\n",
       " 'been',\n",
       " 'before',\n",
       " 'being',\n",
       " 'below',\n",
       " 'between',\n",
       " 'both',\n",
       " 'but',\n",
       " 'by',\n",
       " 'can',\n",
       " \"can't\",\n",
       " 'cannot',\n",
       " 'com',\n",
       " 'could',\n",
       " \"couldn't\",\n",
       " 'did',\n",
       " \"didn't\",\n",
       " 'do',\n",
       " 'does',\n",
       " \"doesn't\",\n",
       " 'doing',\n",
       " \"don't\",\n",
       " 'down',\n",
       " 'during',\n",
       " 'each',\n",
       " 'else',\n",
       " 'ever',\n",
       " 'few',\n",
       " 'for',\n",
       " 'from',\n",
       " 'further',\n",
       " 'get',\n",
       " 'had',\n",
       " \"hadn't\",\n",
       " 'has',\n",
       " \"hasn't\",\n",
       " 'have',\n",
       " \"haven't\",\n",
       " 'having',\n",
       " 'he',\n",
       " \"he'd\",\n",
       " \"he'll\",\n",
       " \"he's\",\n",
       " 'her',\n",
       " 'here',\n",
       " \"here's\",\n",
       " 'hers',\n",
       " 'herself',\n",
       " 'him',\n",
       " 'himself',\n",
       " 'his',\n",
       " 'how',\n",
       " \"how's\",\n",
       " 'however',\n",
       " 'http',\n",
       " 'i',\n",
       " \"i'd\",\n",
       " \"i'll\",\n",
       " \"i'm\",\n",
       " \"i've\",\n",
       " 'if',\n",
       " 'in',\n",
       " 'into',\n",
       " 'is',\n",
       " \"isn't\",\n",
       " 'it',\n",
       " \"it's\",\n",
       " 'its',\n",
       " 'itself',\n",
       " 'just',\n",
       " 'k',\n",
       " \"let's\",\n",
       " 'like',\n",
       " 'me',\n",
       " 'more',\n",
       " 'most',\n",
       " \"mustn't\",\n",
       " 'my',\n",
       " 'myself',\n",
       " 'no',\n",
       " 'nor',\n",
       " 'not',\n",
       " 'of',\n",
       " 'off',\n",
       " 'on',\n",
       " 'once',\n",
       " 'only',\n",
       " 'or',\n",
       " 'other',\n",
       " 'otherwise',\n",
       " 'ought',\n",
       " 'our',\n",
       " 'ours',\n",
       " 'ourselves',\n",
       " 'out',\n",
       " 'over',\n",
       " 'own',\n",
       " 'r',\n",
       " 'same',\n",
       " 'shall',\n",
       " \"shan't\",\n",
       " 'she',\n",
       " \"she'd\",\n",
       " \"she'll\",\n",
       " \"she's\",\n",
       " 'should',\n",
       " \"shouldn't\",\n",
       " 'since',\n",
       " 'so',\n",
       " 'some',\n",
       " 'such',\n",
       " 'than',\n",
       " 'that',\n",
       " \"that's\",\n",
       " 'the',\n",
       " 'their',\n",
       " 'theirs',\n",
       " 'them',\n",
       " 'themselves',\n",
       " 'then',\n",
       " 'there',\n",
       " \"there's\",\n",
       " 'these',\n",
       " 'they',\n",
       " \"they'd\",\n",
       " \"they'll\",\n",
       " \"they're\",\n",
       " \"they've\",\n",
       " 'this',\n",
       " 'those',\n",
       " 'through',\n",
       " 'to',\n",
       " 'too',\n",
       " 'under',\n",
       " 'until',\n",
       " 'up',\n",
       " 'very',\n",
       " 'was',\n",
       " \"wasn't\",\n",
       " 'we',\n",
       " \"we'd\",\n",
       " \"we'll\",\n",
       " \"we're\",\n",
       " \"we've\",\n",
       " 'were',\n",
       " \"weren't\",\n",
       " 'what',\n",
       " \"what's\",\n",
       " 'when',\n",
       " \"when's\",\n",
       " 'where',\n",
       " \"where's\",\n",
       " 'which',\n",
       " 'while',\n",
       " 'who',\n",
       " \"who's\",\n",
       " 'whom',\n",
       " 'why',\n",
       " \"why's\",\n",
       " 'with',\n",
       " \"won't\",\n",
       " 'would',\n",
       " \"wouldn't\",\n",
       " 'www',\n",
       " 'you',\n",
       " \"you'd\",\n",
       " \"you'll\",\n",
       " \"you're\",\n",
       " \"you've\",\n",
       " 'your',\n",
       " 'yours',\n",
       " 'yourself',\n",
       " 'yourselves'}"
      ]
     },
     "execution_count": 13,
     "metadata": {},
     "output_type": "execute_result"
    }
   ],
   "source": [
    " STOPWORDS"
   ]
  },
  {
   "cell_type": "code",
   "execution_count": null,
   "metadata": {},
   "outputs": [],
   "source": []
  }
 ],
 "metadata": {
  "kernelspec": {
   "display_name": "Python 3",
   "language": "python",
   "name": "python3"
  },
  "language_info": {
   "codemirror_mode": {
    "name": "ipython",
    "version": 3
   },
   "file_extension": ".py",
   "mimetype": "text/x-python",
   "name": "python",
   "nbconvert_exporter": "python",
   "pygments_lexer": "ipython3",
   "version": "3.6.4"
  }
 },
 "nbformat": 4,
 "nbformat_minor": 2
}
